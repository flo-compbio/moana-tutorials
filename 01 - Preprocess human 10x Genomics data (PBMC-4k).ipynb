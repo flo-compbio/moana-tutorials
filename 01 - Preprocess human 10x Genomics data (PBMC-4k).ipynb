{
 "cells": [
  {
   "cell_type": "markdown",
   "metadata": {},
   "source": [
    "### Readme\n",
    "\n",
    "This notebook demonstrates how to preprocess human 10x Genomics data using Moana. The dataset used for this demonstration is called \"[4k PBMCs from a Healthy Donor](https://support.10xgenomics.com/single-cell-gene-expression/datasets/2.1.0/pbmc4k)\", and is part of a series of datasets provided by 10x Genomics as demonstrations of their \"v2\" chemistry.\n",
    "\n",
    "This tutorial uses the following files that are included in the GitHub repository.\n",
    "- `pbmc4k_filtered_gene_bc_matrices.tar.gz` ([10x scRNA-Seq expression matrix](http://cf.10xgenomics.com/samples/cell-exp/2.1.0/pbmc4k/pbmc4k_filtered_gene_bc_matrices.tar.gz))\n",
    "- `Homo_sapiens.GRCh38.92.gtf.gz` ([Ensembl genome annotations](http://ftp.ensembl.org/pub/release-92/gtf/homo_sapiens/Homo_sapiens.GRCh38.92.gtf.gz))"
   ]
  },
  {
   "cell_type": "code",
   "execution_count": 1,
   "metadata": {},
   "outputs": [],
   "source": [
    "# intialize logger\n",
    "from moana import util\n",
    "_LOGGER = util.get_logger()"
   ]
  },
  {
   "cell_type": "markdown",
   "metadata": {},
   "source": [
    "### Preprocessing of the 10x Genomics data using Moana"
   ]
  },
  {
   "cell_type": "code",
   "execution_count": 2,
   "metadata": {},
   "outputs": [
    {
     "name": "stdout",
     "output_type": "stream",
     "text": [
      "[2018-10-31 14:56:40] (moana.ensembl.annotations) INFO: Removed 0 protein-coding genes with source \"ensembl\" that also had manual annotations.\n",
      "[2018-10-31 14:56:40] (moana.ensembl.annotations) INFO: Protein-coding genes with multiple Ensembl IDs:MATR3 (2), HSPA14 (2), POLR2J3 (2), SOD2 (2), DIABLO (2), ALDOA (2), COG8 (2), PRSS50 (2), IGF2 (2), EMG1 (2), FAM212B (2), TXNRD3NB (2), ATXN7 (2), TBCE (2), H2BFS (2), CCDC39 (2), SCO2 (2), PDE11A (2), TMSB15B (2), ABCF2 (2)\n",
      "[2018-10-31 14:56:40] (moana.ensembl.annotations) INFO: Read 2689566 lines (in 269 chunks).\n",
      "[2018-10-31 14:56:40] (moana.ensembl.annotations) INFO: Found 19950 valid gene entries.\n",
      "[2018-10-31 14:56:40] (moana.ensembl.annotations) INFO: Final number of unique genes: 19950\n",
      "[2018-10-31 14:56:40] (moana.ensembl.annotations) INFO: Parsing time: 22.3 s\n",
      "[2018-10-31 14:56:40] (moana.ensembl.annotations) INFO: Valid chromosomes (40): 19, 10, 12, 1, 22, 3, 4, 9, 15, 2, 11, 17, 20, 8, 16, 6, 7, X, 13, 14, 21, 18, 5, KI270721.1, KI270734.1, GL000195.1, GL000205.2, KI270731.1, KI270728.1, KI270727.1, GL000194.1, KI270713.1, KI270726.1, KI270711.1, GL000218.1, GL000219.1, Y, GL000009.2, GL000213.1, MT\n",
      "[2018-10-31 14:56:40] (moana.ensembl.annotations) INFO: Excluded chromosomes (0): \n",
      "[2018-10-31 14:56:40] (moana.ensembl.annotations) INFO: Sources:\n",
      "[2018-10-31 14:56:40] (moana.ensembl.annotations) INFO: - ensembl_havana: 18774\n",
      "[2018-10-31 14:56:40] (moana.ensembl.annotations) INFO: - havana: 1129\n",
      "[2018-10-31 14:56:40] (moana.ensembl.annotations) INFO: - ensembl: 34\n",
      "[2018-10-31 14:56:40] (moana.ensembl.annotations) INFO: - insdc: 13\n",
      "[2018-10-31 14:56:40] (moana.ensembl.annotations) INFO: Gene types:\n",
      "[2018-10-31 14:56:40] (moana.ensembl.annotations) INFO: - protein_coding: 19912\n",
      "[2018-10-31 14:56:40] (moana.ensembl.annotations) INFO: - polymorphic_pseudogene: 38\n",
      "Number of protein-coding Ensembl genes: 19950\n",
      "[2018-10-31 14:56:40] (moana.core.exp_matrix) INFO: Reading file: data/pbmc4k_filtered_gene_bc_matrices.tar.gz\n",
      "[2018-10-31 14:56:50] (moana.core.exp_matrix) INFO: Matrix dimensions: (33694, 4340)\n",
      "Full matrix: (33694, 4340)\n",
      "[2018-10-31 14:56:54] (moana.util.data) INFO: Converting matrix with shape: (33694, 4340)\n",
      "[2018-10-31 14:56:55] (moana.util.data) INFO: Shape after filtering for expressed genes: (19773, 4340)\n",
      "[2018-10-31 14:56:55] (moana.util.data) INFO: Shape after filtering for valid genes: (14870, 4340)\n",
      "[2018-10-31 14:56:55] (moana.util.data) INFO: Number of duplicate gene names: 3\n",
      "[2018-10-31 14:56:55] (moana.util.data) INFO: Aggregating duplicates...\n",
      "[2018-10-31 14:56:58] (moana.util.data) INFO: done!\n",
      "[2018-10-31 14:56:58] (moana.util.data) INFO: Shape after collapsing duplicated genes: (14867, 4340)\n",
      "[2018-10-31 14:56:58] (moana.util.data) INFO: Kept % of transcripts:\n",
      "[2018-10-31 14:56:58] (moana.util.data) INFO: count    4340.000000\n",
      "mean       93.024086\n",
      "std         2.487908\n",
      "min        71.091799\n",
      "25%        91.564537\n",
      "50%        93.095285\n",
      "75%        94.804061\n",
      "max        99.497973\n",
      "dtype: float64\n",
      "[2018-10-31 14:56:58] (moana.util.data) INFO: \n",
      "After mapping to protein-coding genes: (14867, 4340)\n",
      "After filtering ribosomal and mitochondrial genes: (14774, 4340)\n",
      "Final expression matrix hash: b124159a76c351c3a2e7ac12c3c5b522\n",
      "[2018-10-31 14:57:22] (moana.core.exp_matrix) INFO: Wrote matrix with 14774 genes and 4340 cells to \"output/pbmc4k_expression.mtx\".\n",
      "[2018-10-31 14:57:22] (moana.core.matrix) INFO: Wrote 4340 x 3 matrix to \"output/pbmc4k_qc.tsv\".\n"
     ]
    }
   ],
   "source": [
    "import os\n",
    "import sys\n",
    "\n",
    "import pandas as pd\n",
    "import numpy as np\n",
    "\n",
    "from moana.core import ExpMatrix\n",
    "from moana import ensembl\n",
    "from moana import util\n",
    "from moana import qc\n",
    "\n",
    "seed = 0\n",
    "\n",
    "expression_file = 'data/pbmc4k_filtered_gene_bc_matrices.tar.gz'\n",
    "genome_annotation_file = 'data/Homo_sapiens.GRCh38.92.gtf.gz'\n",
    "\n",
    "# get list of protein-coding genes, keep genes with duplicate Ensembl IDs\n",
    "gene_table = ensembl.get_protein_coding_genes(genome_annotation_file, remove_duplicates=False)\n",
    "print('Number of protein-coding Ensembl genes:', gene_table.shape[0])\n",
    "\n",
    "# read 10x Genomics data, use Ensembl IDs\n",
    "matrix = ExpMatrix.read_10xgenomics(expression_file, prefix='filtered_gene_bc_matrices/GRCh38/', use_ensembl_ids=True).astype(np.float64)\n",
    "print('Full matrix:', matrix.shape)\n",
    "\n",
    "# map Ensembl IDs back to gene names using the Ensembl annotations\n",
    "matrix = util.convert_from_ensembl_ids(matrix, gene_table)\n",
    "print('After mapping to protein-coding genes:', matrix.shape)\n",
    "\n",
    "# remove genes encoding ribosomal proteins, and genes on the mitochondrial genome\n",
    "matrix, qual = qc.filter_matrix(matrix, min_transcripts=0, max_mito_frac=1.0)\n",
    "print('After filtering ribosomal and mitochondrial genes:', matrix.shape)\n",
    "\n",
    "# shuffle the cells\n",
    "matrix = matrix.sample(frac=1.0, axis=1, random_state=seed)\n",
    "\n",
    "# output a hash that uniquely identifies this expression matrix\n",
    "print('Final expression matrix hash:', matrix.hash)\n",
    "\n",
    "# output expression matrix\n",
    "output_file = 'output/pbmc4k_expression.mtx'\n",
    "matrix.write_sparse(output_file)\n",
    "\n",
    "# output some QC statistics for each cell\n",
    "qual.write_tsv('output/pbmc4k_qc.tsv')"
   ]
  }
 ],
 "metadata": {
  "kernelspec": {
   "display_name": "Python 3",
   "language": "python",
   "name": "python3"
  },
  "language_info": {
   "codemirror_mode": {
    "name": "ipython",
    "version": 3
   },
   "file_extension": ".py",
   "mimetype": "text/x-python",
   "name": "python",
   "nbconvert_exporter": "python",
   "pygments_lexer": "ipython3",
   "version": "3.6.6"
  }
 },
 "nbformat": 4,
 "nbformat_minor": 2
}
